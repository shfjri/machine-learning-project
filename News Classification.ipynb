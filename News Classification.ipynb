{
  "nbformat": 4,
  "nbformat_minor": 0,
  "metadata": {
    "colab": {
      "name": "Submission 1 BPML_Muhammad Sholih Fajri.ipynb",
      "provenance": [],
      "collapsed_sections": []
    },
    "kernelspec": {
      "name": "python3",
      "display_name": "Python 3"
    },
    "accelerator": "GPU"
  },
  "cells": [
    {
      "cell_type": "code",
      "metadata": {
        "id": "t0N8EvcKwGlx",
        "colab_type": "code",
        "colab": {}
      },
      "source": [
        "import pandas as pd\n",
        "import tensorflow as tf\n",
        "from sklearn.model_selection import train_test_split\n",
        "from tensorflow.keras.preprocessing.text import Tokenizer\n",
        "from tensorflow.keras.preprocessing.sequence import pad_sequences\n",
        "from keras.models import Sequential\n",
        "from keras.layers import Dense, Activation, Dropout, Embedding, LSTM\n",
        "from keras.callbacks import EarlyStopping, ModelCheckpoint\n",
        "from keras.utils import to_categorical\n",
        "import numpy as np\n",
        "from matplotlib import pyplot as plt"
      ],
      "execution_count": 1,
      "outputs": []
    },
    {
      "cell_type": "markdown",
      "metadata": {
        "id": "Ipyn9BO9pLiK",
        "colab_type": "text"
      },
      "source": [
        "DATASET:\n",
        "\n",
        "https://www.kaggle.com/amananandrai/ag-news-classification-dataset?select=train.csv"
      ]
    },
    {
      "cell_type": "markdown",
      "metadata": {
        "id": "49TSxHWUpUMJ",
        "colab_type": "text"
      },
      "source": [
        "Load dataset"
      ]
    },
    {
      "cell_type": "code",
      "metadata": {
        "id": "FO2JlXtILUa_",
        "colab_type": "code",
        "colab": {}
      },
      "source": [
        "ag_train = pd.read_csv('train.csv') "
      ],
      "execution_count": 2,
      "outputs": []
    },
    {
      "cell_type": "code",
      "metadata": {
        "id": "FesAnJzLk1eS",
        "colab_type": "code",
        "colab": {
          "base_uri": "https://localhost:8080/",
          "height": 35
        },
        "outputId": "43792413-f944-42f1-f3f6-07fef4bb6a03"
      },
      "source": [
        "ag_train.shape"
      ],
      "execution_count": 3,
      "outputs": [
        {
          "output_type": "execute_result",
          "data": {
            "text/plain": [
              "(120000, 3)"
            ]
          },
          "metadata": {
            "tags": []
          },
          "execution_count": 3
        }
      ]
    },
    {
      "cell_type": "markdown",
      "metadata": {
        "id": "pk5QjsXLwTHa",
        "colab_type": "text"
      },
      "source": [
        "Pre-processing data"
      ]
    },
    {
      "cell_type": "code",
      "metadata": {
        "id": "jOqRneiizaX7",
        "colab_type": "code",
        "colab": {}
      },
      "source": [
        "data = ag_train['Title'] + ' ' + ag_train['Description']\n",
        "data = data.values"
      ],
      "execution_count": 4,
      "outputs": []
    },
    {
      "cell_type": "code",
      "metadata": {
        "id": "eJUlYlf41Eq9",
        "colab_type": "code",
        "colab": {}
      },
      "source": [
        "clean_text = []\n",
        "\n",
        "for i in data:\n",
        "  teks = i.replace(\"\\\\\", \" \")\n",
        "  clean_text.append(teks)\n",
        "\n",
        "clean_text = np.asarray(clean_text)"
      ],
      "execution_count": 5,
      "outputs": []
    },
    {
      "cell_type": "code",
      "metadata": {
        "id": "dhxkdMUZMHjm",
        "colab_type": "code",
        "colab": {}
      },
      "source": [
        "cat = ag_train['Class Index'].values\n",
        "new_cat = [i-1 for i in cat]\n",
        "new_cat = to_categorical(new_cat)"
      ],
      "execution_count": 6,
      "outputs": []
    },
    {
      "cell_type": "markdown",
      "metadata": {
        "id": "p8Gvluq6wi3A",
        "colab_type": "text"
      },
      "source": [
        "Split data to train and validation"
      ]
    },
    {
      "cell_type": "code",
      "metadata": {
        "id": "1RJq7uXYOYUX",
        "colab_type": "code",
        "colab": {
          "base_uri": "https://localhost:8080/",
          "height": 35
        },
        "outputId": "fbe07937-8ab6-4a41-856c-87e47e223e89"
      },
      "source": [
        "x_train, x_val, y_train, y_val = train_test_split(clean_text, new_cat, test_size=0.2, random_state=4)\n",
        "\n",
        "print(x_train.shape, x_val.shape, y_train.shape, y_val.shape)"
      ],
      "execution_count": 7,
      "outputs": [
        {
          "output_type": "stream",
          "text": [
            "(96000,) (24000,) (96000, 4) (24000, 4)\n"
          ],
          "name": "stdout"
        }
      ]
    },
    {
      "cell_type": "markdown",
      "metadata": {
        "id": "Ikue2l2pwuSv",
        "colab_type": "text"
      },
      "source": [
        "Tokenizing and sequencing data"
      ]
    },
    {
      "cell_type": "code",
      "metadata": {
        "id": "6_sv2tFRO3n7",
        "colab_type": "code",
        "colab": {}
      },
      "source": [
        "tokenizer = Tokenizer(num_words=5000, oov_token='-')\n",
        "\n",
        "tokenizer.fit_on_texts(x_train)\n",
        "tokenizer.fit_on_texts(x_val)\n",
        "\n",
        "seq_train = tokenizer.texts_to_sequences(x_train)\n",
        "seq_val = tokenizer.texts_to_sequences(x_val)\n",
        "\n",
        "padded_train = pad_sequences(seq_train)\n",
        "padded_val = pad_sequences(seq_val)"
      ],
      "execution_count": 8,
      "outputs": []
    },
    {
      "cell_type": "markdown",
      "metadata": {
        "id": "2BKT_2VHwxpf",
        "colab_type": "text"
      },
      "source": [
        "Build a model"
      ]
    },
    {
      "cell_type": "code",
      "metadata": {
        "id": "Zs-z2TJEO-yu",
        "colab_type": "code",
        "colab": {
          "base_uri": "https://localhost:8080/",
          "height": 489
        },
        "outputId": "07a0a5a7-6ab7-4cd8-95b1-5b9efe35b3ec"
      },
      "source": [
        "model = Sequential()\n",
        "\n",
        "model.add(Embedding(input_dim=10000, output_dim=128))\n",
        "model.add(LSTM(256))\n",
        "model.add(Dense(256, activation='relu'))\n",
        "model.add(Dropout(0.25))\n",
        "model.add(Dense(128, activation='relu'))\n",
        "model.add(Dropout(0.25))\n",
        "model.add(Dense(64, activation='relu'))\n",
        "model.add(Dropout(0.1))\n",
        "model.add(Dense(4, activation='softmax'))\n",
        "\n",
        "adam = tf.keras.optimizers.Adam(learning_rate=0.01, beta_1=0.9, beta_2=0.999, amsgrad=False)\n",
        "\n",
        "model.compile(loss='categorical_crossentropy', \n",
        "              optimizer='adam', \n",
        "              metrics=['accuracy'])\n",
        "\n",
        "callback = EarlyStopping(monitor='val_accuracy', patience = 2)\n",
        "\n",
        "model.summary()"
      ],
      "execution_count": 9,
      "outputs": [
        {
          "output_type": "stream",
          "text": [
            "Model: \"sequential\"\n",
            "_________________________________________________________________\n",
            "Layer (type)                 Output Shape              Param #   \n",
            "=================================================================\n",
            "embedding (Embedding)        (None, None, 128)         1280000   \n",
            "_________________________________________________________________\n",
            "lstm (LSTM)                  (None, 256)               394240    \n",
            "_________________________________________________________________\n",
            "dense (Dense)                (None, 256)               65792     \n",
            "_________________________________________________________________\n",
            "dropout (Dropout)            (None, 256)               0         \n",
            "_________________________________________________________________\n",
            "dense_1 (Dense)              (None, 128)               32896     \n",
            "_________________________________________________________________\n",
            "dropout_1 (Dropout)          (None, 128)               0         \n",
            "_________________________________________________________________\n",
            "dense_2 (Dense)              (None, 64)                8256      \n",
            "_________________________________________________________________\n",
            "dropout_2 (Dropout)          (None, 64)                0         \n",
            "_________________________________________________________________\n",
            "dense_3 (Dense)              (None, 4)                 260       \n",
            "=================================================================\n",
            "Total params: 1,781,444\n",
            "Trainable params: 1,781,444\n",
            "Non-trainable params: 0\n",
            "_________________________________________________________________\n"
          ],
          "name": "stdout"
        }
      ]
    },
    {
      "cell_type": "markdown",
      "metadata": {
        "id": "kL78yLPpw1sM",
        "colab_type": "text"
      },
      "source": [
        "Train the model"
      ]
    },
    {
      "cell_type": "code",
      "metadata": {
        "id": "aczSRhJPPLwA",
        "colab_type": "code",
        "colab": {
          "base_uri": "https://localhost:8080/",
          "height": 219
        },
        "outputId": "64e5dce1-ea6e-448b-d823-ac420b5aa0f6"
      },
      "source": [
        "hist = model.fit(padded_train, y_train,\n",
        "                 batch_size=300, epochs=10,\n",
        "                 validation_data=(padded_val, y_val),\n",
        "                 callbacks=[callback],\n",
        "                 verbose=1)"
      ],
      "execution_count": 10,
      "outputs": [
        {
          "output_type": "stream",
          "text": [
            "Epoch 1/10\n",
            "320/320 [==============================] - 24s 75ms/step - loss: 0.5743 - accuracy: 0.7819 - val_loss: 0.3305 - val_accuracy: 0.8901\n",
            "Epoch 2/10\n",
            "320/320 [==============================] - 24s 75ms/step - loss: 0.2964 - accuracy: 0.9035 - val_loss: 0.2929 - val_accuracy: 0.9044\n",
            "Epoch 3/10\n",
            "320/320 [==============================] - 24s 75ms/step - loss: 0.2439 - accuracy: 0.9193 - val_loss: 0.2757 - val_accuracy: 0.9052\n",
            "Epoch 4/10\n",
            "320/320 [==============================] - 24s 75ms/step - loss: 0.2146 - accuracy: 0.9282 - val_loss: 0.2980 - val_accuracy: 0.9015\n",
            "Epoch 5/10\n",
            "320/320 [==============================] - 24s 75ms/step - loss: 0.1920 - accuracy: 0.9349 - val_loss: 0.3018 - val_accuracy: 0.9013\n"
          ],
          "name": "stdout"
        }
      ]
    },
    {
      "cell_type": "markdown",
      "metadata": {
        "id": "l_HDuMktw5lq",
        "colab_type": "text"
      },
      "source": [
        "Plotting accuracy and loss of the model"
      ]
    },
    {
      "cell_type": "code",
      "metadata": {
        "id": "Sg5MSekZsj5F",
        "colab_type": "code",
        "colab": {
          "base_uri": "https://localhost:8080/",
          "height": 366
        },
        "outputId": "0f32fcda-62c9-4049-8d15-a6da6db570a2"
      },
      "source": [
        "n = len(hist.history['loss']) + 1\n",
        "ep = np.arange(1, n, 1)\n",
        "\n",
        "fig, ax = plt.subplots(1, 2, figsize=(12,6))\n",
        "\n",
        "ax[0].set_xlabel('Epoch', style='italic', size=12, color='y')\n",
        "ax[0].set_ylabel('Accuracy', style='italic', size = 12, color = 'c')\n",
        "ax[0].plot(ep, hist.history['accuracy'], color = 'g')\n",
        "ax[0].plot(ep, hist.history['val_accuracy'], color = 'c')\n",
        "ax[0].tick_params(axis='x', labelcolor='y')\n",
        "ax[0].tick_params(axis='y', labelcolor='c')\n",
        "ax[0].legend(['Training Accuracy', 'Validation Accuracy'], loc='lower right')\n",
        "\n",
        "ax[1].set_xlabel('Epoch', style='italic', size=12, color='y')\n",
        "ax[1].set_ylabel('Error', style = 'italic', size = 12, color = 'r')\n",
        "ax[1].plot(ep, hist.history['loss'], color = 'r')\n",
        "ax[1].plot(ep, hist.history['val_loss'], color = 'm')\n",
        "ax[1].tick_params(axis='x', labelcolor='y')\n",
        "ax[1].tick_params(axis='y', labelcolor='r')\n",
        "ax[1].legend(['Training Error', 'Validation Error'], loc='upper right')"
      ],
      "execution_count": 11,
      "outputs": [
        {
          "output_type": "execute_result",
          "data": {
            "text/plain": [
              "<matplotlib.legend.Legend at 0x7fa344eaac50>"
            ]
          },
          "metadata": {
            "tags": []
          },
          "execution_count": 11
        },
        {
          "output_type": "display_data",
          "data": {
            "image/png": "[encoded data removed]",
            "text/plain": [
              "<Figure size 864x432 with 2 Axes>"
            ]
          },
          "metadata": {
            "tags": []
          }
        }
      ]
    },
    {
      "cell_type": "markdown",
      "metadata": {
        "id": "4L2GXgFQ0CN6",
        "colab_type": "text"
      },
      "source": [
        "Referensi:\n",
        "\n",
        "https://www.kaggle.com/amananandrai/news-article-classifier-with-different-models\n",
        "https://www.kaggle.com/amananandrai/news-article-multiclass-classifier\n",
        "https://medium.com/@djajafer/multi-class-text-classification-with-keras-and-lstm-4c5525bef592\n",
        "https://medium.com/@robert.salgado/multiclass-text-classification-from-start-to-finish-f616a8642538\n",
        "https://towardsdatascience.com/multi-class-text-classification-model-comparison-and-selection-5eb066197568\n",
        "https://keras.io/api/callbacks/early_stopping/"
      ]
    }
  ]
}