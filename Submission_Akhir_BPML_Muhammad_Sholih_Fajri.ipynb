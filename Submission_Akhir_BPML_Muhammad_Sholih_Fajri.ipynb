{
  "nbformat": 4,
  "nbformat_minor": 0,
  "metadata": {
    "colab": {
      "name": "Submission Akhir BPML_Muhammad Sholih Fajri.ipynb",
      "provenance": [],
      "collapsed_sections": []
    },
    "kernelspec": {
      "name": "python3",
      "display_name": "Python 3"
    },
    "accelerator": "GPU"
  },
  "cells": [
    {
      "cell_type": "code",
      "metadata": {
        "id": "eu-CeK8Tf6hG",
        "colab_type": "code",
        "colab": {}
      },
      "source": [
        "# Import Library yang dibutuhkan\n",
        "\n",
        "import numpy as np\n",
        "import tensorflow as tf\n",
        "import keras\n",
        "import os\n",
        "import zipfile\n",
        "\n",
        "from keras.models import Sequential, Model\n",
        "from keras.layers import Dense, Dropout, Flatten, Conv2D, MaxPool2D, BatchNormalization\n",
        "from keras.preprocessing import image\n",
        "from keras.preprocessing.image import ImageDataGenerator\n",
        "from keras.optimizers import RMSprop, Adamax, Nadam, SGD, Adam \n",
        "from keras.callbacks import ModelCheckpoint\n",
        "from keras.applications import VGG16\n",
        "\n",
        "from matplotlib import pyplot as plt\n",
        "from matplotlib import image as img\n",
        "\n",
        "from google.colab import files"
      ],
      "execution_count": 6,
      "outputs": []
    },
    {
      "cell_type": "code",
      "metadata": {
        "id": "5P_dPp2BTApj",
        "colab_type": "code",
        "colab": {}
      },
      "source": [
        "# Menginstall kaggle agar bisa langsung mendownload dataset di colab\n",
        "\n",
        "!pip install -q kaggle"
      ],
      "execution_count": 7,
      "outputs": []
    },
    {
      "cell_type": "code",
      "metadata": {
        "id": "uJgVYT8lTXa-",
        "colab_type": "code",
        "colab": {
          "resources": {
            "http://localhost:8080/nbextensions/google.colab/files.js": {
              "data": "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",
              "ok": true,
              "headers": [
                [
                  "content-type",
                  "application/javascript"
                ]
              ],
              "status": 200,
              "status_text": "OK"
            }
          },
          "base_uri": "https://localhost:8080/",
          "height": 93
        },
        "outputId": "529d9654-8bf1-4055-e0a3-dd74df0c580c"
      },
      "source": [
        "# Mengupload json file API Token user kaggle\n",
        "\n",
        "files.upload() #upload kaggle.json\n",
        "\n",
        "!pip install -q kaggle\n",
        "!mkdir -p ~/.kaggle\n",
        "!cp kaggle.json ~/.kaggle/\n",
        "!ls ~/.kaggle\n",
        "!chmod 600 /root/.kaggle/kaggle.json"
      ],
      "execution_count": 8,
      "outputs": [
        {
          "output_type": "display_data",
          "data": {
            "text/html": [
              "\n",
              "     <input type=\"file\" id=\"files-25c0d0ce-8b3e-41f8-84d6-7399782fb47c\" name=\"files[]\" multiple disabled\n",
              "        style=\"border:none\" />\n",
              "     <output id=\"result-25c0d0ce-8b3e-41f8-84d6-7399782fb47c\">\n",
              "      Upload widget is only available when the cell has been executed in the\n",
              "      current browser session. Please rerun this cell to enable.\n",
              "      </output>\n",
              "      <script src=\"/nbextensions/google.colab/files.js\"></script> "
            ],
            "text/plain": [
              "<IPython.core.display.HTML object>"
            ]
          },
          "metadata": {
            "tags": []
          }
        },
        {
          "output_type": "stream",
          "text": [
            "Saving kaggle.json to kaggle.json\n",
            "kaggle.json\n"
          ],
          "name": "stdout"
        }
      ]
    },
    {
      "cell_type": "code",
      "metadata": {
        "id": "_APOcticWHGn",
        "colab_type": "code",
        "colab": {
          "base_uri": "https://localhost:8080/",
          "height": 72
        },
        "outputId": "06f467af-0682-457a-c4c2-6c69b0d677c9"
      },
      "source": [
        "# Mendownload dataset yang digunakan dengan API Command kaggle\n",
        "\n",
        "!kaggle datasets download -d alessiocorrado99/animals10"
      ],
      "execution_count": 9,
      "outputs": [
        {
          "output_type": "stream",
          "text": [
            "Downloading animals10.zip to /content\n",
            " 99% 577M/586M [00:04<00:00, 106MB/s]\n",
            "100% 586M/586M [00:04<00:00, 130MB/s]\n"
          ],
          "name": "stdout"
        }
      ]
    },
    {
      "cell_type": "code",
      "metadata": {
        "id": "80gB6gbxfB43",
        "colab_type": "code",
        "colab": {}
      },
      "source": [
        "# Mengekstrak file zip dataset\n",
        "\n",
        "local_zip = 'animals10.zip'\n",
        "zip_ref = zipfile.ZipFile(local_zip, 'r')\n",
        "zip_ref.extractall('/content')\n",
        "zip_ref.close()"
      ],
      "execution_count": 10,
      "outputs": []
    },
    {
      "cell_type": "code",
      "metadata": {
        "id": "40tBLFg6fJo0",
        "colab_type": "code",
        "colab": {
          "base_uri": "https://localhost:8080/",
          "height": 201
        },
        "outputId": "9de7277a-99c8-47c0-972d-ed346f1fdf4a"
      },
      "source": [
        "# Mengetahui folder kelas dataset\n",
        "\n",
        "os.listdir('/content/raw-img')"
      ],
      "execution_count": 11,
      "outputs": [
        {
          "output_type": "execute_result",
          "data": {
            "text/plain": [
              "['ragno',\n",
              " 'gallina',\n",
              " 'elefante',\n",
              " 'scoiattolo',\n",
              " 'pecora',\n",
              " 'farfalla',\n",
              " 'cavallo',\n",
              " 'mucca',\n",
              " 'cane',\n",
              " 'gatto']"
            ]
          },
          "metadata": {
            "tags": []
          },
          "execution_count": 11
        }
      ]
    },
    {
      "cell_type": "code",
      "metadata": {
        "id": "09WsGWxjgA_o",
        "colab_type": "code",
        "colab": {}
      },
      "source": [
        "# Path dataset yang digunakan\n",
        "\n",
        "source_path = '/content/raw-img'"
      ],
      "execution_count": 12,
      "outputs": []
    },
    {
      "cell_type": "code",
      "metadata": {
        "id": "LQd5KVHefi3G",
        "colab_type": "code",
        "colab": {
          "base_uri": "https://localhost:8080/",
          "height": 54
        },
        "outputId": "c1fd8b07-685f-4e4c-cef8-85b04c620545"
      },
      "source": [
        "# Menginisialisasi generator untuk augmentasi dan mengaplikasikannya untuk dataset training dan validasi\n",
        "\n",
        "augmentation_gen = ImageDataGenerator(\n",
        "    rescale=1./255,\n",
        "    rotation_range = 20,\n",
        "    horizontal_flip = True,\n",
        "    shear_range = 0.2,\n",
        "    fill_mode = 'nearest',\n",
        "    validation_split = 0.2\n",
        ")\n",
        " \n",
        "train_gen = augmentation_gen.flow_from_directory(\n",
        "    source_path,\n",
        "    target_size = (224,224),\n",
        "    color_mode = 'rgb',\n",
        "    batch_size = 32,\n",
        "    class_mode = 'categorical',\n",
        "    shuffle = True,\n",
        "    subset = 'training'\n",
        ") \n",
        "val_gen = augmentation_gen.flow_from_directory(\n",
        "    source_path,\n",
        "    target_size=(224,224),\n",
        "    color_mode = 'rgb',\n",
        "    batch_size = 32,\n",
        "    class_mode='categorical',\n",
        "    shuffle=True,\n",
        "    subset = 'validation'\n",
        ")"
      ],
      "execution_count": 13,
      "outputs": [
        {
          "output_type": "stream",
          "text": [
            "Found 20947 images belonging to 10 classes.\n",
            "Found 5232 images belonging to 10 classes.\n"
          ],
          "name": "stdout"
        }
      ]
    },
    {
      "cell_type": "code",
      "metadata": {
        "id": "6x-UUYDAS8_c",
        "colab_type": "code",
        "colab": {}
      },
      "source": [
        "# Membuat model dengan pre-trained model yaitu VGG dan menambahkan layer berikutnya sesuai kebutuhan\n",
        "\n",
        "vgg16 = VGG16(include_top=False, weights='imagenet', input_shape=(224,224,3))\n",
        "\n",
        "model = Sequential()\n",
        "model.add(vgg16)\n",
        "model.add(Flatten())\n",
        "model.add(Dropout(0.2))\n",
        "model.add(Dense(256, activation='relu'))\n",
        "model.add(Dropout(0.2))\n",
        "model.add(Dense(10, activation='softmax'))"
      ],
      "execution_count": 23,
      "outputs": []
    },
    {
      "cell_type": "code",
      "metadata": {
        "id": "tfrAIyvmg4MK",
        "colab_type": "code",
        "colab": {
          "base_uri": "https://localhost:8080/",
          "height": 384
        },
        "outputId": "45fbc732-03f0-4f0f-c801-beb6849272cf"
      },
      "source": [
        "# Menentukan optimizer dan callback beserta parameter-parameternya\n",
        "\n",
        "sgd = SGD(learning_rate=0.001, momentum=0.9)\n",
        "model.compile(loss = 'categorical_crossentropy', \n",
        "              optimizer = 'sgd', \n",
        "              metrics = ['accuracy'])\n",
        "\n",
        "filepath = 'animals.h5'\n",
        "\n",
        "checkpoint = ModelCheckpoint(filepath, \n",
        "                             monitor = 'val_accuracy', \n",
        "                             verbose = 1, \n",
        "                             save_best_only = True, \n",
        "                             mode = 'max')\n",
        "\n",
        "callback_list = [checkpoint]\n",
        "\n",
        "model.summary()"
      ],
      "execution_count": 24,
      "outputs": [
        {
          "output_type": "stream",
          "text": [
            "Model: \"sequential_3\"\n",
            "_________________________________________________________________\n",
            "Layer (type)                 Output Shape              Param #   \n",
            "=================================================================\n",
            "vgg16 (Functional)           (None, 7, 7, 512)         14714688  \n",
            "_________________________________________________________________\n",
            "flatten_3 (Flatten)          (None, 25088)             0         \n",
            "_________________________________________________________________\n",
            "dropout_6 (Dropout)          (None, 25088)             0         \n",
            "_________________________________________________________________\n",
            "dense_6 (Dense)              (None, 256)               6422784   \n",
            "_________________________________________________________________\n",
            "dropout_7 (Dropout)          (None, 256)               0         \n",
            "_________________________________________________________________\n",
            "dense_7 (Dense)              (None, 10)                2570      \n",
            "=================================================================\n",
            "Total params: 21,140,042\n",
            "Trainable params: 21,140,042\n",
            "Non-trainable params: 0\n",
            "_________________________________________________________________\n"
          ],
          "name": "stdout"
        }
      ]
    },
    {
      "cell_type": "code",
      "metadata": {
        "id": "eY5YZ-Q1Uhaw",
        "colab_type": "code",
        "colab": {
          "base_uri": "https://localhost:8080/",
          "height": 1000
        },
        "outputId": "16af8fd1-eca0-4a32-ef31-5b214864e040"
      },
      "source": [
        "# Melatih model dengan data training dan validasi\n",
        "\n",
        "hist = model.fit(train_gen,\n",
        "                 epochs=15,\n",
        "                 steps_per_epoch=100,\n",
        "                 validation_data=val_gen,\n",
        "                 callbacks=callback_list,\n",
        "                 verbose=1)"
      ],
      "execution_count": 25,
      "outputs": [
        {
          "output_type": "stream",
          "text": [
            "Epoch 1/15\n",
            "100/100 [==============================] - ETA: 0s - loss: 2.3414 - accuracy: 0.1981\n",
            "Epoch 00001: val_accuracy improved from -inf to 0.23050, saving model to animals.h5\n",
            "100/100 [==============================] - 113s 1s/step - loss: 2.3414 - accuracy: 0.1981 - val_loss: 2.1746 - val_accuracy: 0.2305\n",
            "Epoch 2/15\n",
            "100/100 [==============================] - ETA: 0s - loss: 1.9758 - accuracy: 0.3056\n",
            "Epoch 00002: val_accuracy did not improve from 0.23050\n",
            "100/100 [==============================] - 114s 1s/step - loss: 1.9758 - accuracy: 0.3056 - val_loss: 2.4977 - val_accuracy: 0.2217\n",
            "Epoch 3/15\n",
            "100/100 [==============================] - ETA: 0s - loss: 1.3622 - accuracy: 0.5391\n",
            "Epoch 00003: val_accuracy improved from 0.23050 to 0.74924, saving model to animals.h5\n",
            "100/100 [==============================] - 112s 1s/step - loss: 1.3622 - accuracy: 0.5391 - val_loss: 0.7803 - val_accuracy: 0.7492\n",
            "Epoch 4/15\n",
            "100/100 [==============================] - ETA: 0s - loss: 0.9562 - accuracy: 0.6834\n",
            "Epoch 00004: val_accuracy improved from 0.74924 to 0.78918, saving model to animals.h5\n",
            "100/100 [==============================] - 115s 1s/step - loss: 0.9562 - accuracy: 0.6834 - val_loss: 0.7247 - val_accuracy: 0.7892\n",
            "Epoch 5/15\n",
            "100/100 [==============================] - ETA: 0s - loss: 0.5874 - accuracy: 0.8106\n",
            "Epoch 00005: val_accuracy improved from 0.78918 to 0.86391, saving model to animals.h5\n",
            "100/100 [==============================] - 117s 1s/step - loss: 0.5874 - accuracy: 0.8106 - val_loss: 0.4293 - val_accuracy: 0.8639\n",
            "Epoch 6/15\n",
            "100/100 [==============================] - ETA: 0s - loss: 0.5147 - accuracy: 0.8316\n",
            "Epoch 00006: val_accuracy did not improve from 0.86391\n",
            "100/100 [==============================] - 114s 1s/step - loss: 0.5147 - accuracy: 0.8316 - val_loss: 0.4218 - val_accuracy: 0.8496\n",
            "Epoch 7/15\n",
            "100/100 [==============================] - ETA: 0s - loss: 0.4343 - accuracy: 0.8606\n",
            "Epoch 00007: val_accuracy improved from 0.86391 to 0.88647, saving model to animals.h5\n",
            "100/100 [==============================] - 114s 1s/step - loss: 0.4343 - accuracy: 0.8606 - val_loss: 0.3447 - val_accuracy: 0.8865\n",
            "Epoch 8/15\n",
            "100/100 [==============================] - ETA: 0s - loss: 0.4121 - accuracy: 0.8672\n",
            "Epoch 00008: val_accuracy did not improve from 0.88647\n",
            "100/100 [==============================] - 115s 1s/step - loss: 0.4121 - accuracy: 0.8672 - val_loss: 0.4467 - val_accuracy: 0.8473\n",
            "Epoch 9/15\n",
            "100/100 [==============================] - ETA: 0s - loss: 0.3569 - accuracy: 0.8841\n",
            "Epoch 00009: val_accuracy did not improve from 0.88647\n",
            "100/100 [==============================] - 114s 1s/step - loss: 0.3569 - accuracy: 0.8841 - val_loss: 0.3666 - val_accuracy: 0.8767\n",
            "Epoch 10/15\n",
            "100/100 [==============================] - ETA: 0s - loss: 0.3192 - accuracy: 0.8938\n",
            "Epoch 00010: val_accuracy improved from 0.88647 to 0.90424, saving model to animals.h5\n",
            "100/100 [==============================] - 113s 1s/step - loss: 0.3192 - accuracy: 0.8938 - val_loss: 0.3047 - val_accuracy: 0.9042\n",
            "Epoch 11/15\n",
            "100/100 [==============================] - ETA: 0s - loss: 0.3023 - accuracy: 0.9049\n",
            "Epoch 00011: val_accuracy improved from 0.90424 to 0.92240, saving model to animals.h5\n",
            "100/100 [==============================] - 114s 1s/step - loss: 0.3023 - accuracy: 0.9049 - val_loss: 0.2372 - val_accuracy: 0.9224\n",
            "Epoch 12/15\n",
            "100/100 [==============================] - ETA: 0s - loss: 0.2928 - accuracy: 0.9084\n",
            "Epoch 00012: val_accuracy improved from 0.92240 to 0.92278, saving model to animals.h5\n",
            "100/100 [==============================] - 116s 1s/step - loss: 0.2928 - accuracy: 0.9084 - val_loss: 0.2344 - val_accuracy: 0.9228\n",
            "Epoch 13/15\n",
            "100/100 [==============================] - ETA: 0s - loss: 0.2567 - accuracy: 0.9172\n",
            "Epoch 00013: val_accuracy did not improve from 0.92278\n",
            "100/100 [==============================] - 114s 1s/step - loss: 0.2567 - accuracy: 0.9172 - val_loss: 0.2565 - val_accuracy: 0.9170\n",
            "Epoch 14/15\n",
            "100/100 [==============================] - ETA: 0s - loss: 0.2455 - accuracy: 0.9178\n",
            "Epoch 00014: val_accuracy improved from 0.92278 to 0.92603, saving model to animals.h5\n",
            "100/100 [==============================] - 114s 1s/step - loss: 0.2455 - accuracy: 0.9178 - val_loss: 0.2244 - val_accuracy: 0.9260\n",
            "Epoch 15/15\n",
            "100/100 [==============================] - ETA: 0s - loss: 0.2179 - accuracy: 0.9306\n",
            "Epoch 00015: val_accuracy improved from 0.92603 to 0.92947, saving model to animals.h5\n",
            "100/100 [==============================] - 113s 1s/step - loss: 0.2179 - accuracy: 0.9306 - val_loss: 0.2146 - val_accuracy: 0.9295\n"
          ],
          "name": "stdout"
        }
      ]
    },
    {
      "cell_type": "code",
      "metadata": {
        "id": "z_eDkZiwvTbC",
        "colab_type": "code",
        "colab": {
          "base_uri": "https://localhost:8080/",
          "height": 409
        },
        "outputId": "b0bf9a37-557a-4b9a-a494-a4e401699fb5"
      },
      "source": [
        "# Membuat plot grafik akurasi dan loss pada model selama training\n",
        "\n",
        "n = len(hist.history['loss']) + 1\n",
        "ep = np.arange(1, n, 1)\n",
        "\n",
        "fig, ax = plt.subplots(1, 2, figsize=(12,6))\n",
        "\n",
        "ax[0].set_xlabel('Epoch', style='italic', size=12, color='b')\n",
        "ax[0].set_ylabel('Accuracy', style='italic', size = 12, color = 'c')\n",
        "ax[0].plot(ep, hist.history['accuracy'], color = 'g')\n",
        "ax[0].plot(ep, hist.history['val_accuracy'], color = 'c')\n",
        "ax[0].tick_params(axis='x', labelcolor='b')\n",
        "ax[0].tick_params(axis='y', labelcolor='c')\n",
        "ax[0].legend(['Training Accuracy', 'Validation Accuracy'], loc='lower right')\n",
        "\n",
        "ax[1].set_xlabel('Epoch', style='italic', size=12, color='b')\n",
        "ax[1].set_ylabel('Loss', style = 'italic', size = 12, color = 'r')\n",
        "ax[1].plot(ep, hist.history['loss'], color = 'r')\n",
        "ax[1].plot(ep, hist.history['val_loss'], color = 'm')\n",
        "ax[1].tick_params(axis='x', labelcolor='b')\n",
        "ax[1].tick_params(axis='y', labelcolor='r')\n",
        "ax[1].legend(['Training Loss', 'Validation Loss'], loc='upper right')"
      ],
      "execution_count": 26,
      "outputs": [
        {
          "output_type": "execute_result",
          "data": {
            "text/plain": [
              "<matplotlib.legend.Legend at 0x7fe1fc6f0b38>"
            ]
          },
          "metadata": {
            "tags": []
          },
          "execution_count": 26
        },
        {
          "output_type": "display_data",
          "data": {
            "image/png": "[encoded data removed]",
            "text/plain": [
              "<Figure size 864x432 with 2 Axes>"
            ]
          },
          "metadata": {
            "tags": []
          }
        }
      ]
    },
    {
      "cell_type": "code",
      "metadata": {
        "id": "PnPOEXlwvOlX",
        "colab_type": "code",
        "colab": {
          "base_uri": "https://localhost:8080/",
          "height": 166
        },
        "outputId": "e53e84d6-e3f4-4064-c338-ca6cfd336d84"
      },
      "source": [
        "# from tensorflow.lite import TFLiteConverter\n",
        "\n",
        "converter = tf.lite.TFLiteConverter.from_keras_model(model)\n",
        "tflite_model = converter.convert()"
      ],
      "execution_count": 27,
      "outputs": [
        {
          "output_type": "stream",
          "text": [
            "WARNING:tensorflow:From /usr/local/lib/python3.6/dist-packages/tensorflow/python/training/tracking/tracking.py:111: Model.state_updates (from tensorflow.python.keras.engine.training) is deprecated and will be removed in a future version.\n",
            "Instructions for updating:\n",
            "This property should not be used in TensorFlow 2.0, as updates are applied automatically.\n",
            "WARNING:tensorflow:From /usr/local/lib/python3.6/dist-packages/tensorflow/python/training/tracking/tracking.py:111: Layer.updates (from tensorflow.python.keras.engine.base_layer) is deprecated and will be removed in a future version.\n",
            "Instructions for updating:\n",
            "This property should not be used in TensorFlow 2.0, as updates are applied automatically.\n",
            "INFO:tensorflow:Assets written to: /tmp/tmp3eof_zwh/assets\n"
          ],
          "name": "stdout"
        }
      ]
    },
    {
      "cell_type": "code",
      "metadata": {
        "id": "1zjkWVUIvSar",
        "colab_type": "code",
        "colab": {}
      },
      "source": [
        "with tf.io.gfile.GFile('model.tflite', 'wb') as f:\n",
        "  f.write(tflite_model)"
      ],
      "execution_count": 28,
      "outputs": []
    },
    {
      "cell_type": "markdown",
      "metadata": {
        "id": "ZgHWqe3AyVbA",
        "colab_type": "text"
      },
      "source": [
        "Referensi\n",
        "\n",
        "https://www.tensorflow.org/lite/convert/python_api\n",
        "\n",
        "https://keras.io/api/optimizers/sgd/\n",
        "\n",
        "https://www.freecodecamp.org/news/how-to-pick-the-best-learning-rate-for-your-machine-learning-project-9c28865039a8/\n",
        "\n",
        "https://ruder.io/optimizing-gradient-descent/\n",
        "\n",
        "https://machinelearningmastery.com/understand-the-dynamics-of-learning-rate-on-deep-learning-neural-networks/\n",
        "\n",
        "https://keras.io/api/applications/vgg/#vgg16-function\n",
        "\n",
        "https://www.kaggle.com/general/74235\n",
        "\n",
        "https://medium.com/analytics-vidhya/how-to-fetch-kaggle-datasets-into-google-colab-ea682569851a\n",
        "\n",
        "https://www.kaggle.com/aman193070021/cnn-vgg-animals10"
      ]
    }
  ]
}